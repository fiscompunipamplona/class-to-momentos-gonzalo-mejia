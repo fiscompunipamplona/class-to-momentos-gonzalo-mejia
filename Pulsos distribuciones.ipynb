{
 "cells": [
  {
   "cell_type": "code",
   "execution_count": 1,
   "metadata": {},
   "outputs": [],
   "source": [
    "from prueba2 import Distribuciones"
   ]
  },
  {
   "cell_type": "markdown",
   "metadata": {},
   "source": [
    "En este código tomamos los datos de las pulsaciones durante 30 segundos de 4 personas diferentes, con estos datos calcularemos los momentos de distribución de cada persona y por ultimo haremos una comparación de dichos datos. "
   ]
  },
  {
   "cell_type": "code",
   "execution_count": 2,
   "metadata": {},
   "outputs": [
    {
     "name": "stdout",
     "output_type": "stream",
     "text": [
      "la media es: 38.2 38.93333333333333 34.06666666666667 39.333333333333336\n",
      "la varianza es: 3.7428571428571416 3.2095238095238097 7.066666666666667 4.666666666666667\n",
      "la desviación estandar es 1.9346465162548794 1.791514389985135 2.6583202716502514 2.160246899469287\n",
      "el skew es: -1.2572665816608009 0.1622183739600279 -0.045393649826806826 0.11315578997219757\n",
      "la kurtosis es: 0.9101015869316202 -1.372123143933056 -0.5759534828527344 -0.978231292517008\n"
     ]
    }
   ],
   "source": [
    "datosgonzalo=[33, 38, 40, 38, 39, 38, 36, 39, 39, 40, 36, 40, 38, 40, 39]\n",
    "datosyeiner = [37, 40, 38, 39, 41, 36, 37, 38, 41, 38, 38, 42, 40, 41, 38]\n",
    "datosluis = [38, 33, 33, 34, 30, 29, 35, 39, 36, 34, 35, 34, 36, 33, 32]\n",
    "datososmar = [38, 40, 37, 43, 39, 41, 40, 38, 36, 41, 43, 40, 36, 39, 39]\n",
    "\n",
    "a=Distribuciones(datosgonzalo)\n",
    "b=Distribuciones(datosyeiner)\n",
    "c=Distribuciones(datosluis)\n",
    "d=Distribuciones(datososmar)\n",
    "\n",
    "#media\n",
    "print(\"la media es:\", a.md(), b.md(), c.md(), d.md())\n",
    "\n",
    "#varianza\n",
    "print(\"la varianza es:\", a.vr(), b.vr(), c.vr(), d.vr())\n",
    "\n",
    "# Desviación estandar\n",
    "print(\"la desviación estandar es\", a.ds(), b.ds(), c.ds(), d.ds())\n",
    "\n",
    "# skew\n",
    "print(\"el skew es:\", a.sk(), b.sk(), c.sk(), d.sk())\n",
    "\n",
    "# kurtosis\n",
    "print(\"la kurtosis es:\", a.kr(), b.kr(), c.kr(), d.kr())"
   ]
  },
  {
   "cell_type": "markdown",
   "metadata": {},
   "source": [
    "Comparando los datos podemos notar claramente que las pulsaciones de Gonzalo, Yeiner y Osmar tienen una tendencia similar ya que su promedio es muy parecido a comparación del promedio de las pulsaciones de Luis.\n",
    "Esto también nos indica teniendo en cuanta la desviación estándar que Luis se encuentra aproximadamente a un sigma por debajo a comparación de los otros datos, es decir tiene un pulso menos probable."
   ]
  },
  {
   "cell_type": "code",
   "execution_count": null,
   "metadata": {},
   "outputs": [],
   "source": []
  }
 ],
 "metadata": {
  "kernelspec": {
   "display_name": "Python 3",
   "language": "python",
   "name": "python3"
  },
  "language_info": {
   "codemirror_mode": {
    "name": "ipython",
    "version": 3
   },
   "file_extension": ".py",
   "mimetype": "text/x-python",
   "name": "python",
   "nbconvert_exporter": "python",
   "pygments_lexer": "ipython3",
   "version": "3.5.2"
  }
 },
 "nbformat": 4,
 "nbformat_minor": 2
}
